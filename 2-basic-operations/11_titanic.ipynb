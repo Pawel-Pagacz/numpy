{
 "cells": [
  {
   "cell_type": "markdown",
   "metadata": {},
   "source": [
    "# 05. Titanic 🚢\n",
    "\n",
    "Exercise link: https://www.codedex.io/numpy/11-titanic"
   ]
  },
  {
   "cell_type": "code",
   "execution_count": 1,
   "metadata": {},
   "outputs": [],
   "source": [
    "import numpy as np\n",
    "\n",
    "passengers = np.array([\n",
    "   [1, 0, 3, 22],\n",
    "   [2, 1, 1, 38],\n",
    "   [3, 1, 3, 26],\n",
    "   [4, 1, 1, 35],\n",
    "   [5, 0, 3, 35],\n",
    "   [6, 0, 3, 18],\n",
    "   [7, 0, 1, 54],\n",
    "   [8, 0, 3, 2],\n",
    "   [9, 1, 3, 27],\n",
    "  [10, 1, 2, 14],\n",
    "  [11, 1, 3, 4],\n",
    "  [12, 1, 1, 58],\n",
    "  [13, 0, 3, 20],\n",
    "  [14, 0, 3, 39],\n",
    "  [15, 0, 3, 14],\n",
    "  [16, 1, 2, 55],\n",
    "  [17, 0, 3, 2],\n",
    "  [18, 1, 2, 12],\n",
    "  [19, 0, 3, 31],\n",
    "  [20, 1, 3, 8],\n",
    "  [21, 0, 2, 35],\n",
    "  [22, 1, 2, 34],\n",
    "  [23, 1, 3, 15],\n",
    "  [24, 1, 1, 28],\n",
    "  [25, 0, 3, 8],\n",
    "  [26, 1, 3, 38],\n",
    "  [27, 0, 3, 2],\n",
    "  [28, 0, 1, 1],\n",
    "  [29, 1, 3, 5],\n",
    "  [30, 0, 3, 18],\n",
    "  [31, 0, 1, 40],\n",
    "  [32, 1, 1, 70],\n",
    "  [33, 1, 3, 33],\n",
    "  [34, 0, 2, 66],\n",
    "  [35, 0, 1, 28],\n",
    "  [36, 0, 1, 42],\n",
    "  [37, 1, 3, 5],\n",
    "  [38, 0, 3, 18],\n",
    "  [39, 0, 3, 18],\n",
    "  [40, 1, 3, 14],\n",
    "  [41, 0, 3, 40],\n",
    "  [42, 0, 2, 27],\n",
    "  [43, 0, 3, 29],\n",
    "  [44, 1, 2, 0],\n",
    "  [45, 1, 3, 19],\n",
    "  [46, 0, 3, 33],\n",
    "  [47, 0, 3, 14],\n",
    "  [48, 1, 3, 22],\n",
    "  [49, 0, 3, 41],\n",
    "  [50, 0, 3, 18]\n",
    "])"
   ]
  },
  {
   "cell_type": "markdown",
   "metadata": {},
   "source": [
    "### What is the shape of this array?"
   ]
  },
  {
   "cell_type": "code",
   "execution_count": 2,
   "metadata": {},
   "outputs": [
    {
     "name": "stdout",
     "output_type": "stream",
     "text": [
      "(50, 4)\n"
     ]
    }
   ],
   "source": [
    "print(passengers.shape)"
   ]
  },
  {
   "cell_type": "markdown",
   "metadata": {},
   "source": [
    "### What is the average age of the passengers?"
   ]
  },
  {
   "cell_type": "code",
   "execution_count": 3,
   "metadata": {},
   "outputs": [
    {
     "name": "stdout",
     "output_type": "stream",
     "text": [
      "[25.5   0.44  2.44 25.5 ]\n",
      "25.5\n"
     ]
    }
   ],
   "source": [
    "print(np.average(passengers, axis=0))\n",
    "print(np.average(passengers, axis=0)[3])"
   ]
  },
  {
   "cell_type": "markdown",
   "metadata": {},
   "source": [
    "### What is the passenger number of the oldest passenger? Who is the youngest?"
   ]
  },
  {
   "cell_type": "code",
   "execution_count": 4,
   "metadata": {},
   "outputs": [
    {
     "name": "stdout",
     "output_type": "stream",
     "text": [
      "Age of the youngest person: 0\n",
      "Index of the youngest person: 44\n",
      "Age of the oldest person: 70\n",
      "Index of the oldest person: 32\n"
     ]
    }
   ],
   "source": [
    "(rows, cols) = passengers.shape\n",
    "oldest = 0\n",
    "youngest = 999\n",
    "for i in range(rows):\n",
    "  temp = passengers[i][3]\n",
    "  if youngest <= temp:\n",
    "    youngest = youngest\n",
    "    if oldest <= temp:\n",
    "      oldest = temp\n",
    "      index_oldest = i\n",
    "  else:\n",
    "    youngest = temp\n",
    "    index_youngest = i\n",
    "print(f'Age of the youngest person: {youngest}')\n",
    "print(f'Index of the youngest person: {passengers[index_youngest][0]}')\n",
    "print(f'Age of the oldest person: {oldest}')\n",
    "print(f'Index of the youngest person: {passengers[index_oldest][0]}')"
   ]
  },
  {
   "cell_type": "markdown",
   "metadata": {},
   "source": [
    "### What is the percentage of folks that survived?"
   ]
  },
  {
   "cell_type": "code",
   "execution_count": 5,
   "metadata": {},
   "outputs": [
    {
     "name": "stdout",
     "output_type": "stream",
     "text": [
      "22\n",
      "The percent of folks who survived is: 0.44\n"
     ]
    }
   ],
   "source": [
    "(rows, cols) = passengers.shape\n",
    "survived = []\n",
    "for i in range(rows):\n",
    "  (survived.append(passengers[i]) if passengers[i][1] == 1 else None)\n",
    "print(len(survived))\n",
    "print(f'The percent of folks who survived is: {len(survived)/rows}')"
   ]
  }
 ],
 "metadata": {
  "kernelspec": {
   "display_name": "Python 3",
   "language": "python",
   "name": "python3"
  },
  "language_info": {
   "codemirror_mode": {
    "name": "ipython",
    "version": 3
   },
   "file_extension": ".py",
   "mimetype": "text/x-python",
   "name": "python",
   "nbconvert_exporter": "python",
   "pygments_lexer": "ipython3",
   "version": "3.10.11"
  }
 },
 "nbformat": 4,
 "nbformat_minor": 2
}
